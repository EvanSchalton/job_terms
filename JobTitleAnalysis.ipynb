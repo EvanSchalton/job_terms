{
 "cells": [
  {
   "cell_type": "markdown",
   "metadata": {},
   "source": [
    "# Tech Job Posting Title Analysis"
   ]
  },
  {
   "cell_type": "raw",
   "metadata": {},
   "source": [
    "Job titles matter.\n",
    "\n",
    "For job seekers, titles are important search filters. For hiring managers, they ensure you attract the right talent. They tell you what a job entails and what skills are required to perform it; beyond a job description, they provide an intuition around the job function that helps to close any potential expectation gaps.\n",
    "\n",
    "When job titles lack standard meanings, confusion results. Job seekers may apply for jobs that aren’t a good fit, or fail to apply for jobs that are, and hiring managers may interview, or worse, hire, unqualified candidates or disqualify good ones.\n",
    "\n",
    "While many industries suffer from nonstandard titles, it seems to be particularly pervasive in the tech industry. Ask several people what a data engineer or software developer is, and they’ll each tell you a different thing. This is a problem.\n",
    "Of course, job seekers can read the description, and hiring managers can perform skill assessments. However, invariably, certain things will go unsaid and the messages conveyed in a title will impact the hiring process.\n",
    "\n",
    "What if we had standard titles across the tech industry? What would they look like? To test my understanding and discover how titles are used across the industry, I decided to analyze thousands of job postings to cluster similar jobs (based on description) and see how their titles compare."
   ]
  },
  {
   "cell_type": "markdown",
   "metadata": {},
   "source": [
    "## Finding Data"
   ]
  },
  {
   "cell_type": "raw",
   "metadata": {},
   "source": [
    "I got lucky here. Kaggle already provides a sizable dataset that included tech job titles & descriptions: https://www.kaggle.com/PromptCloudHQ/us-jobs-on-monstercom\n",
    "\n",
    "This dataset is a little dated, but it was much faster to acquire than doing my own web scraping."
   ]
  },
  {
   "cell_type": "markdown",
   "metadata": {},
   "source": [
    "# Identifying Jobs"
   ]
  },
  {
   "cell_type": "raw",
   "metadata": {},
   "source": [
    "Before I could start looking at how titles mesh with job descriptions, I needed to find out how many different types of jobs there are.\n",
    "\n",
    "For this, I used TFIDF Vectorization and k-Means clustering -- that's a fancy way of saying I sorted through all of the job postings, and based on the common and unique words on each post, I put them in a pile. The tricky thing is determining how many piles I should be making. To figure that out, I split all of the postings into 2 piles, 3 piles, 4 piles, ..., 20 piles, each time looking at how well the items fit (using a technique called silhouetting) and finding the best (highest value) silhouette. The highest value corresponds to the number of job types."
   ]
  },
  {
   "cell_type": "markdown",
   "metadata": {},
   "source": [
    "### Prepping Our Data / Filtering out unneeded text:"
   ]
  },
  {
   "cell_type": "raw",
   "metadata": {},
   "source": [
    "Quick note on imports -- it is a best practice to import packages at the head (top) of the module. I'm not doing that here because I think it's helpful to see where they're being used."
   ]
  },
  {
   "cell_type": "code",
   "execution_count": 1,
   "metadata": {},
   "outputs": [],
   "source": [
    "import pandas as pd"
   ]
  },
  {
   "cell_type": "code",
   "execution_count": 2,
   "metadata": {},
   "outputs": [],
   "source": [
    "# Location where I downloaded the kaggle dataset\n",
    "data_path = r\"D:\\GIT\\job_terms\\6020_8902_compressed_Dice_US_jobs.csv/Dice_US_jobs.csv\""
   ]
  },
  {
   "cell_type": "code",
   "execution_count": 3,
   "metadata": {
    "scrolled": true
   },
   "outputs": [],
   "source": [
    "# Read the csv into a pandas (package) dataframe -- excel for python\n",
    "df = pd.read_csv(data_path, encoding=\"latin\")"
   ]
  },
  {
   "cell_type": "code",
   "execution_count": 4,
   "metadata": {},
   "outputs": [
    {
     "data": {
      "text/html": [
       "<div>\n",
       "<style scoped>\n",
       "    .dataframe tbody tr th:only-of-type {\n",
       "        vertical-align: middle;\n",
       "    }\n",
       "\n",
       "    .dataframe tbody tr th {\n",
       "        vertical-align: top;\n",
       "    }\n",
       "\n",
       "    .dataframe thead th {\n",
       "        text-align: right;\n",
       "    }\n",
       "</style>\n",
       "<table border=\"1\" class=\"dataframe\">\n",
       "  <thead>\n",
       "    <tr style=\"text-align: right;\">\n",
       "      <th></th>\n",
       "      <th>country_code</th>\n",
       "      <th>date_added</th>\n",
       "      <th>job_board</th>\n",
       "      <th>job_description</th>\n",
       "      <th>job_title</th>\n",
       "      <th>job_type</th>\n",
       "      <th>location</th>\n",
       "      <th>organization</th>\n",
       "      <th>page_url</th>\n",
       "      <th>phone_number</th>\n",
       "      <th>salary</th>\n",
       "      <th>sector</th>\n",
       "    </tr>\n",
       "  </thead>\n",
       "  <tbody>\n",
       "    <tr>\n",
       "      <th>0</th>\n",
       "      <td>US</td>\n",
       "      <td>11/11/2016</td>\n",
       "      <td>https://www.dice.com</td>\n",
       "      <td>Minimum Required Skills:EDI, TrustedLink, AS2,...</td>\n",
       "      <td>EDI Analyst</td>\n",
       "      <td>Full Time, Full-time, Employee</td>\n",
       "      <td>Stamford, CT</td>\n",
       "      <td>CyberCoders</td>\n",
       "      <td>https://www.dice.com/jobs/detail/EDI-Analyst-%...</td>\n",
       "      <td>NaN</td>\n",
       "      <td>NaN</td>\n",
       "      <td>EDI, TrustedLink, AS2, VAN - EDI, TrustedLink,...</td>\n",
       "    </tr>\n",
       "    <tr>\n",
       "      <th>1</th>\n",
       "      <td>US</td>\n",
       "      <td>11/11/2016</td>\n",
       "      <td>https://www.dice.com</td>\n",
       "      <td>InformaticaåÊ/ ETL DeveloperSt, Petersburg, FL...</td>\n",
       "      <td>Informatica ETL Developer</td>\n",
       "      <td>Full Time, Full Time</td>\n",
       "      <td>St Petersburg, FL</td>\n",
       "      <td>TrustMinds</td>\n",
       "      <td>https://www.dice.com/jobs/detail/Informatica-E...</td>\n",
       "      <td>NaN</td>\n",
       "      <td>NaN</td>\n",
       "      <td>ETL Informatica B2B Data Exchange Netezza Orac...</td>\n",
       "    </tr>\n",
       "    <tr>\n",
       "      <th>2</th>\n",
       "      <td>US</td>\n",
       "      <td>11/11/2016</td>\n",
       "      <td>https://www.dice.com</td>\n",
       "      <td>pmayekar@kanandcorp.com 512-697-8897Sunnyvale ...</td>\n",
       "      <td>Angular developer</td>\n",
       "      <td>Full Time, Contract Corp-To-Corp, Contract Ind...</td>\n",
       "      <td>Sunnyvale, CA</td>\n",
       "      <td>K Anand Corporation</td>\n",
       "      <td>https://www.dice.com/jobs/detail/Angular-devel...</td>\n",
       "      <td>NaN</td>\n",
       "      <td>NaN</td>\n",
       "      <td>Angular</td>\n",
       "    </tr>\n",
       "  </tbody>\n",
       "</table>\n",
       "</div>"
      ],
      "text/plain": [
       "  country_code  date_added             job_board  \\\n",
       "0           US  11/11/2016  https://www.dice.com   \n",
       "1           US  11/11/2016  https://www.dice.com   \n",
       "2           US  11/11/2016  https://www.dice.com   \n",
       "\n",
       "                                     job_description  \\\n",
       "0  Minimum Required Skills:EDI, TrustedLink, AS2,...   \n",
       "1  InformaticaåÊ/ ETL DeveloperSt, Petersburg, FL...   \n",
       "2  pmayekar@kanandcorp.com 512-697-8897Sunnyvale ...   \n",
       "\n",
       "                   job_title  \\\n",
       "0                EDI Analyst   \n",
       "1  Informatica ETL Developer   \n",
       "2          Angular developer   \n",
       "\n",
       "                                            job_type           location  \\\n",
       "0                     Full Time, Full-time, Employee       Stamford, CT   \n",
       "1                               Full Time, Full Time  St Petersburg, FL   \n",
       "2  Full Time, Contract Corp-To-Corp, Contract Ind...      Sunnyvale, CA   \n",
       "\n",
       "          organization                                           page_url  \\\n",
       "0          CyberCoders  https://www.dice.com/jobs/detail/EDI-Analyst-%...   \n",
       "1           TrustMinds  https://www.dice.com/jobs/detail/Informatica-E...   \n",
       "2  K Anand Corporation  https://www.dice.com/jobs/detail/Angular-devel...   \n",
       "\n",
       "  phone_number salary                                             sector  \n",
       "0          NaN    NaN  EDI, TrustedLink, AS2, VAN - EDI, TrustedLink,...  \n",
       "1          NaN    NaN  ETL Informatica B2B Data Exchange Netezza Orac...  \n",
       "2          NaN    NaN                                            Angular  "
      ]
     },
     "execution_count": 4,
     "metadata": {},
     "output_type": "execute_result"
    }
   ],
   "source": [
    "# Here's what it looks like:\n",
    "df.head(3)"
   ]
  },
  {
   "cell_type": "code",
   "execution_count": 5,
   "metadata": {},
   "outputs": [],
   "source": [
    "from nltk.stem.porter import PorterStemmer\n",
    "import re"
   ]
  },
  {
   "cell_type": "raw",
   "metadata": {},
   "source": [
    "Stemming is a technique that removes any prefixing or case from a work and results in it's \"stem\"\n",
    "\n",
    "Stemming helps us better associate words within a 'corpus' (the body of text) by letting the program draw connections between words that share a stem"
   ]
  },
  {
   "cell_type": "code",
   "execution_count": 6,
   "metadata": {},
   "outputs": [],
   "source": [
    "porter_stemmer = PorterStemmer()"
   ]
  },
  {
   "cell_type": "code",
   "execution_count": 7,
   "metadata": {},
   "outputs": [],
   "source": [
    "def tokenize(str_input):\n",
    "    \"\"\"Takes a string and returns a list of words\"\"\"\n",
    "    words = re.sub(r\"[^A-Za-z0-9\\']\", \" \", str_input).lower().split()\n",
    "    return words"
   ]
  },
  {
   "cell_type": "code",
   "execution_count": 8,
   "metadata": {},
   "outputs": [],
   "source": [
    "def stemming_tokenizer(str_input):\n",
    "    \"\"\"Takes a string and returns a list of stemmed words\"\"\"\n",
    "    words = tokenize(str_input)\n",
    "    words = [porter_stemmer.stem(word) for word in words]\n",
    "    return words"
   ]
  },
  {
   "cell_type": "code",
   "execution_count": 9,
   "metadata": {},
   "outputs": [
    {
     "data": {
      "text/plain": [
       "['run', 'run', 'run']"
      ]
     },
     "execution_count": 9,
     "metadata": {},
     "output_type": "execute_result"
    }
   ],
   "source": [
    "# Example of Stemming:\n",
    "stemming_tokenizer(\"run running runs\")"
   ]
  },
  {
   "cell_type": "raw",
   "metadata": {},
   "source": [
    "In NLP (Natural Language Processing) -- a needlessly fancy term for text analytics -- we also, generally, remove \"stopwords\". Stopwords are language specific, but are generally fillers that don't add significant meaning to the text"
   ]
  },
  {
   "cell_type": "raw",
   "metadata": {},
   "source": [
    "the nltk (Natural Language Tool Kit) package offers a stopwords list; we'll use it's english list as a starting point for our analysis"
   ]
  },
  {
   "cell_type": "code",
   "execution_count": 10,
   "metadata": {},
   "outputs": [],
   "source": [
    "# Stemming some words results in two stems, this function takes those lists\n",
    "# and 'flattens' them so that instead of a list of lists of stems we just\n",
    "# have a list of stems\n",
    "def stemWords(words):\n",
    "    \"\"\"wrapper around the stemming_tokenizer that takes a list of words,\n",
    "    stems each, and returns the flattened results\n",
    "    \"\"\"\n",
    "    return list(set([stemmed_word for word in words for stemmed_word in stemming_tokenizer(word)]))"
   ]
  },
  {
   "cell_type": "code",
   "execution_count": 11,
   "metadata": {
    "scrolled": false
   },
   "outputs": [],
   "source": [
    "from nltk.corpus import stopwords\n",
    "# since we stem our job descriptions, we'll want to stem our stop words too\n",
    "stop_words = stopwords.words('english')"
   ]
  },
  {
   "cell_type": "raw",
   "metadata": {},
   "source": [
    "I'll admit, this got ugly.\n",
    "\n",
    "After running this a few times, I noticed that the non-discrimination clause & other hr / benefits text was showing up in several of the clusters. This happened because that text is both common enough to pass the lower bound and unique enough to not be filtered out. I couldn't find a thresholding setup that removed that language without removing important skill information, so I'm adding it to the stopwords that will be removed."
   ]
  },
  {
   "cell_type": "code",
   "execution_count": 12,
   "metadata": {},
   "outputs": [],
   "source": [
    "# I found a couple of non-discrimination clauses; we'll stem those and add them to the stop words\n",
    "human_resources_text = \"\"\"\n",
    "does not and shall not discriminate on the basis of race, color, religion (creed), sex, gender, gender expression, age, national origin (ancestry), disability, marital status, sexual orientation, or military status, in any of its activities or operations. These activities include, but are not limited to, hiring and firing of staff, selection of volunteers and vendors, and provision of services. We are committed to providing an inclusive and welcoming environment for all members of our staff, clients, volunteers, subcontractors, vendors, and clients.\n",
    "is an equal opportunity employer. We will not discriminate and will take affirmative action measures to ensure against discrimination in employment, recruitment, advertisements for employment, compensation, termination, upgrading, promotions, and other conditions of employment against any employee or job applicant on the bases of race, color, gender, national origin, age, religion, creed, disability, veteran's status, sexual orientation, gender identity or gender expression.\n",
    "\"\"\""
   ]
  },
  {
   "cell_type": "code",
   "execution_count": 13,
   "metadata": {},
   "outputs": [],
   "source": [
    "# Adding a beneits section I found online to help remove benefits language\n",
    "human_resources_text += \"\"\" PAY & SALARY\n",
    "Employee Benefits: Examples of the Most Common Employee Perks\n",
    "January 3, 2020\n",
    "When searching for a job, it is important to consider a potential employer’s benefits package. The quality of the employee benefits will often show how much an employer values the health and happiness of their employees. If you are looking for a new job or want to know how your current benefits compare to other professionals, you will need to conduct some research. In this article, we will define employee benefits and offer examples of common types of benefits and perks.\n",
    "\n",
    "What is an employee benefits package?\n",
    "When you agree to work for a company or organization, they should offer you an employee benefits package. Many individuals take the quality of a comprehensive benefits package into account when deciding whether or not to accept a job offer. Benefits usually include services and policies that provide for the employee’s physical and mental health, their work/life balance and their personal goals. Many employers prioritize offering quality benefits because they contribute to employee satisfaction, retention and overall productivity.\n",
    "\n",
    "Common employee benefits examples\n",
    "Most employers offer a variety of employee perks, which are bundled into an employee benefits package. Here are the most common employee benefits:\n",
    "\n",
    "Health insurance\n",
    "Disability insurance\n",
    "Dental and vision insurance\n",
    "Life insurance\n",
    "PTO/paid holidays\n",
    "Retirement planning\n",
    "Family leave\n",
    "Remote work or flexible schedules\n",
    "Student loan repayment\n",
    "Continued education and professional\n",
    "Health insurance\n",
    "The most common type of employee benefit is health insurance. Corporations, small businesses and even non-profit organizations offer health insurance for their employees. The health insurance provider, the details of the policy and the amount of coverage are usually decided upon by the company. In some cases, if an employee already has health insurance, they can make a request or negotiate in order to keep their original healthcare plan.\n",
    "\n",
    "Health insurance usually covers doctor visits, prescription medications and trips to the emergency room. If an employee is injured or is diagnosed with a long-term condition, they may need to take advantage of this list’s next benefit.\n",
    "\n",
    "Disability insurance\n",
    "If you become unable to work due to an injury or illness, you may choose to take advantage of short-term disability insurance. This benefit means that your employer will continue to pay you a certain percentage of your income until you are able to return to work.\n",
    "\n",
    "Long-term disability insurance protects you by making sure you will not lose your salary if you become unable to work for a long period of time. Long-term disability insurance is one of the most valuable components of an employee’s benefits package.\n",
    "\n",
    "Dental and vision insurance\n",
    "In addition to general health insurance, many employers offer dental coverage. Dental insurance covers routine teeth cleanings, fillings and sometimes surgeries. Dental coverage is cheaper than health insurance, so it can be an affordable option for both the employer and the employees. In some cases, dental insurance is not included in the employee package but is offered at a reduced rate from the health insurance provider.\n",
    "\n",
    "Vision coverage is another optional but affordable type of insurance. Vision insurance contributes to the bill for eye exams and corrective lenses. If you wear corrective eyewear or if you struggle with your eyesight, vision insurance might be a worthwhile addition to your comprehensive benefits package.\n",
    "\n",
    "Life insurance\n",
    "Life insurance is not as common as health insurance, but it can be a valuable addition to your employee benefit package. Some employers offer life insurance at the price of your salary. Others may be willing to pay for a portion of a life insurance policy if you supply the remaining funds. Life insurance is an example of an employee perk that can benefit your family as well as yourself.\n",
    "\n",
    "PTO/paid holidays\n",
    "Another common employee benefit is paid time-off, or PTO. PTO refers to days or weeks when you can take time away from work while still being paid your usual salary. Typically, you earn a certain amount of PTO for every day or week that you work. Employees often choose to save up their PTO days and use them for a lengthy vacation in the summer or around the holidays.\n",
    "\n",
    "Holidays are a specific type of PTO. In addition to the most common holidays (Thanksgiving, Christmas, etc.), your employer will likely decide on other nationally recognized holidays which will serve as PTO for the entire team. The goal of giving PTO on holidays is to allow employees (and the employer) to spend quality time with loved ones.\n",
    "\n",
    "Retirement planning\n",
    "Anticipating retirement is an important consideration for employees in every stage of life. Many employers find it necessary to offer 401(k) plans in order to be competitive in the job market. In order to enroll in a 401(k) plan, you must be ruled eligible to participate. Some employers may also offer a matching program that will help you grow your retirement savings. Consult your employee handbook or HR department to find out your employer’s specifications.\n",
    "\n",
    "Family leave\n",
    "Family leave, sometimes called maternity leave, is a period of time-off given to mothers and/or fathers in the weeks leading up to and following the birth of a child. This benefit is one of the highest requested by employees and has become increasingly common. Competitive employers are also offering paid family leave more frequently in recent years. Some more specialized types of family leave include the event of an adoption, a new foster child or a surrogacy.\n",
    "\n",
    "Remote work or flexible schedules\n",
    "more employees are able to do their jobs from home. Some employers offer regular opportunities for employees to work outside their usual environment. This benefit allows employees to take a break from a hectic environment and work from the comfort of their home or other low-stress locations.\n",
    "\n",
    "Even if an employer cannot offer remote opportunities, they may be able to allow for flexible work schedules. This permits employees to work during hours that suit them. Some statistics show that employees who work flexible hours or work from home show higher levels of productivity.\n",
    "\n",
    "Student loan repayment\n",
    "An attractive employee benefit for recent graduates is a student loan repayment plan. This benefit is relatively rare, but can be necessary for job searchers with extensive student debt. Typically, employers who offer this benefit might agree to pay a portion of an employee’s student loan payments each month or they may offer a set sum for an entire year.\n",
    "\n",
    "Continued education and professional\n",
    "Another employee perk is continuing education opportunities. Some employers will pay for you to take college courses, complete their degrees or acquire a degree in a new field. Additionally, some might pay for you to attend professional training courses, technical lectures or to take a certification exam. If you have considerable potential as an employee, providing for your continued improvement as a professional is in your employer’s best interest.\n",
    "\n",
    "Employee benefits are an important part of any employee contract. Before taking a job offer, be sure to carefully consider the employee benefits package and do not be afraid to ask about the possibility of adding more perks. Most employers value their employee’s satisfaction, and some may be willing to negotiate the terms of their employee benefits. Researching competitive employee benefits will help you be a more informed and savvy employee.\n",
    "\"\"\""
   ]
  },
  {
   "cell_type": "code",
   "execution_count": 14,
   "metadata": {},
   "outputs": [],
   "source": [
    "# After several iterative runs I manually created and updated this list\n",
    "# of more terms/phrases that were showing up in the clusters\n",
    "human_resources_text += \"\"\"\n",
    "copyright\n",
    "\n",
    "please send resume\n",
    "email\n",
    "please apply\n",
    "employer\n",
    "proud\n",
    "form\n",
    "send\n",
    "click apply\n",
    "click\n",
    "least experience\n",
    "minimum requirements\n",
    "preferred requirements\n",
    "please\n",
    "skills required\n",
    "ideal candidate\n",
    "federal law\n",
    "state verified\n",
    "citizen\n",
    "employer\n",
    "employable\n",
    "verify\n",
    "verified\n",
    "legal\n",
    "problem solving\n",
    "forward word\n",
    "excellent communication\n",
    "drive success\n",
    "written verbal\n",
    "inc\n",
    "link\n",
    "rights reserved\n",
    "position fit\n",
    "good\n",
    "recieve without regard\n",
    "author \n",
    "female male\n",
    "qualifications\n",
    "veteran\n",
    "\"\"\""
   ]
  },
  {
   "cell_type": "code",
   "execution_count": 15,
   "metadata": {},
   "outputs": [],
   "source": [
    "# I'm adding the human_resources_text tokens to the stopwords list\n",
    "stop_words = set(stop_words + tokenize(human_resources_text))\n",
    "# Then stem that list\n",
    "stemmed_stopwords = set(stemWords(stop_words))"
   ]
  },
  {
   "cell_type": "code",
   "execution_count": 16,
   "metadata": {
    "scrolled": true
   },
   "outputs": [],
   "source": [
    "# Here I combine all of the original stop words with the stemmed stopwords\n",
    "# This shouldn't be necessary, but sometimes the stem of a word can also be stemmed;\n",
    "# adding the next layer of stemming just catches both cases. I did this in a loop,\n",
    "# stemming and restemming the words until no new variations\n",
    "# (stems of stems of stems....) were found\n",
    "\n",
    "all_stopwords = set()\n",
    "while len(stemmed_stopwords) != len(stemmed_stopwords & all_stopwords):\n",
    "    all_stopwords = all_stopwords | stemmed_stopwords\n",
    "    stemmed_stopwords = set(stemWords(all_stopwords))\n",
    "\n",
    "all_stopwords = list(all_stopwords | stop_words)\n",
    "\n",
    "# Note here, using sets (unique lists) and the | (or) and & (and) operators\n",
    "# is usually much faster than looping over lists"
   ]
  },
  {
   "cell_type": "code",
   "execution_count": 17,
   "metadata": {},
   "outputs": [
    {
     "name": "stdout",
     "output_type": "stream",
     "text": [
      "stopword sample: ['our', 'ours', 'ourselves', 'you', \"you're\"]\n",
      "stemming each word: [['our'], ['our'], ['ourselv'], ['you'], [\"you'r\"]]\n",
      "stemmed stop words: ['you', \"you'r\", 'our', 'ourselv']\n"
     ]
    }
   ],
   "source": [
    "# A better example of stopwords & stemming:\n",
    "example_stop_words =stopwords.words('english')[5:10]\n",
    "print(\"stopword sample:\", example_stop_words)\n",
    "print(\"stemming each word:\", [stemming_tokenizer(word) for word in example_stop_words])\n",
    "print(\"stemmed stop words:\", stemWords(example_stop_words))"
   ]
  },
  {
   "cell_type": "markdown",
   "metadata": {},
   "source": [
    "### Turning our job description text into 'data' we can cluster"
   ]
  },
  {
   "cell_type": "raw",
   "metadata": {},
   "source": [
    "Now with our data (the job descriptions) and our stopwords both stemmed, we can use them to fit our vectorizer.\n",
    "Our vectorizer takes the job descriptions and turns each one into an array of counts -- out of the whole vocabulary of our entire dataset it looks at each record (job posting) and gives us the *counts of each (stemmed) word.\n",
    "\n",
    "TFIDF means \"term frequency inverse document frequency.\" It's basically the balancing point between how unique a word is, as an indicator that postings with that word are related, verses how common a word is. If a word is in every job posting (max_df), it doesn't help us understand anything about that posting. The unique words are also subjected to a threshold (min_df); if a word is REALLY unique it wont help us put the description into a pile.\n",
    "\n",
    "I'm also adding n-gram consideration; n-grams are common combinations of words; where the n is the number of words to consider. This should allow things like \"Database Administration\" to be considered as one term, where the two words together indicate a DBA but separately could mean backend development (database) or project management (administration). Adding n-grams increases the runtime because it considers the combinations of words, but it can help improve the analysis when combinations of words hold special meaning."
   ]
  },
  {
   "cell_type": "code",
   "execution_count": 18,
   "metadata": {},
   "outputs": [],
   "source": [
    "from sklearn.feature_extraction.text import TfidfVectorizer"
   ]
  },
  {
   "cell_type": "code",
   "execution_count": 19,
   "metadata": {},
   "outputs": [
    {
     "name": "stderr",
     "output_type": "stream",
     "text": [
      "D:\\Anaconda3\\lib\\site-packages\\sklearn\\feature_extraction\\text.py:484: UserWarning: The parameter 'token_pattern' will not be used since 'tokenizer' is not None'\n",
      "  warnings.warn(\"The parameter 'token_pattern' will not be used\"\n"
     ]
    }
   ],
   "source": [
    "tfidf = TfidfVectorizer(\n",
    "    min_df = 5,\n",
    "    max_df = 0.95,\n",
    "    max_features = 100000,\n",
    "    stop_words = all_stopwords,\n",
    "    tokenizer=stemming_tokenizer,\n",
    "    ngram_range=(1,2)\n",
    ")\n",
    "tfidf.fit(df.job_description.to_list())\n",
    "text = tfidf.transform(df.job_description.to_list())"
   ]
  },
  {
   "cell_type": "raw",
   "metadata": {},
   "source": [
    "Our TfidfVectorizer looks at all of our records and returns a matrix -- a fancy term for a list of lists. The matrix is just a list of all of the job descriptions, but instead of the 'text' it now contains a list of the *counts of all of the words"
   ]
  },
  {
   "cell_type": "raw",
   "metadata": {},
   "source": [
    "*TfidfVectorizer isn't actually the count; it's a scaled count -- that's the \"IDF\" part; read more here:\n",
    "https://scikit-learn.org/stable/modules/generated/sklearn.feature_extraction.text.TfidfTransformer.html#sklearn.feature_extraction.text.TfidfTransformer"
   ]
  },
  {
   "cell_type": "code",
   "execution_count": 20,
   "metadata": {},
   "outputs": [
    {
     "name": "stdout",
     "output_type": "stream",
     "text": [
      "Let's take a look at what we just caclulated:\n",
      " <21919x100000 sparse matrix of type '<class 'numpy.float64'>'\n",
      "\twith 4099230 stored elements in Compressed Sparse Row format>\n"
     ]
    }
   ],
   "source": [
    "print(\"Let's take a look at what we just caclulated:\\n\", text.__repr__())"
   ]
  },
  {
   "cell_type": "raw",
   "metadata": {},
   "source": [
    "A sparse matrix just means that a lot (the vast majority, in fact) of our entries are 0. In our whole vocabulary, we have many more unique terms than what is in a single job posting. We limited the number of unique terms to 100000 (max_features) terms that fit within our bounds (min_df and max_df).\n",
    "\n",
    "We have '21919' records or job postings. So our `text` variable is jut a list of lists of mostly zeros, but also a lot of valuable information about what words ARE used, how frequently, and how that compares to their frequency in the other job posts."
   ]
  },
  {
   "cell_type": "markdown",
   "metadata": {},
   "source": [
    "# Clustering our Jobs (Putting them into piles)"
   ]
  },
  {
   "cell_type": "code",
   "execution_count": 21,
   "metadata": {},
   "outputs": [],
   "source": [
    "from tqdm.notebook import tqdm # Progress bars make me feel better about how slow this runs\n",
    "from sklearn.metrics import silhouette_score # sklearn has a really handy tool for calculating the silhouettes\n",
    "from sklearn.cluster import MiniBatchKMeans # perform kMeans clustering"
   ]
  },
  {
   "cell_type": "code",
   "execution_count": 22,
   "metadata": {},
   "outputs": [],
   "source": [
    "def find_optimal_clusters(data, max_k):\n",
    "    \"\"\"performs clustering in a loop, calculating the silhouette for each\n",
    "    to help us identify the correct (subjective) amount of clusters\n",
    "    \"\"\"\n",
    "    prog = tqdm(total=max_k)\n",
    "    iters = range(2, max_k+1)\n",
    "    \n",
    "    silhouettes = []\n",
    "    for k in iters:\n",
    "        KM = MiniBatchKMeans(n_clusters=k, init_size=1024, batch_size=2048, random_state=20).fit(data)\n",
    "        silhouettes.append(silhouette_score(data, KM.labels_, metric='euclidean'))\n",
    "        prog.update(1)\n",
    "    prog.update(1) # Shouldn't need this, but tqdm sometimes misses it's last update\n",
    "    return silhouettes"
   ]
  },
  {
   "cell_type": "code",
   "execution_count": 23,
   "metadata": {},
   "outputs": [],
   "source": [
    "import matplotlib.pyplot as plt #Graphing package to let us see our silhouettes"
   ]
  },
  {
   "cell_type": "code",
   "execution_count": 24,
   "metadata": {},
   "outputs": [],
   "source": [
    "def plotIt(data, title=\"title\", ylabel=\"y\", xlabel=\"x\", iters=[]):\n",
    "    \"\"\"Convience function to show plots\"\"\"\n",
    "    if not iters:\n",
    "        iters = range(1, len(data)+1)\n",
    "    f, ax = plt.subplots(1, 1)\n",
    "    ax.plot(iters, data, marker='o')\n",
    "    ax.set_xlabel(xlabel)\n",
    "    ax.set_xticks(iters)\n",
    "    ax.set_xticklabels(iters)\n",
    "    ax.set_ylabel(ylabel)\n",
    "    ax.set_title(title)"
   ]
  },
  {
   "cell_type": "raw",
   "metadata": {},
   "source": [
    "First we use our `find_optimal_clusters` function to calculate the silhouette value for 1-10 clusters. Use your judgement here; looking at tech jobs, it's intuitive that there aren't 100 different types of jobs.\n",
    "\n",
    "The more you evaluate, the longer the program takes to run"
   ]
  },
  {
   "cell_type": "code",
   "execution_count": 25,
   "metadata": {},
   "outputs": [
    {
     "data": {
      "application/vnd.jupyter.widget-view+json": {
       "model_id": "285795f568ef43088a1b23c9d426bc44",
       "version_major": 2,
       "version_minor": 0
      },
      "text/plain": [
       "HBox(children=(FloatProgress(value=0.0, max=10.0), HTML(value='')))"
      ]
     },
     "metadata": {},
     "output_type": "display_data"
    }
   ],
   "source": [
    "CHECK_K = 10 # FYI Constants are generally also defined at the top of a file\n",
    "silhouettes = find_optimal_clusters(text, CHECK_K)"
   ]
  },
  {
   "cell_type": "code",
   "execution_count": 26,
   "metadata": {
    "scrolled": true
   },
   "outputs": [
    {
     "data": {
      "image/png": "[encoded data removed]",
      "text/plain": [
       "<Figure size 432x288 with 1 Axes>"
      ]
     },
     "metadata": {
      "needs_background": "light"
     },
     "output_type": "display_data"
    }
   ],
   "source": [
    "plotIt(silhouettes, title=\"Silhouettes\", ylabel=\"Score\", xlabel=\"number of clusters\", iters=range(2, CHECK_K+1))"
   ]
  },
  {
   "cell_type": "code",
   "execution_count": 27,
   "metadata": {},
   "outputs": [
    {
     "name": "stdout",
     "output_type": "stream",
     "text": [
      "Highest Silhouette value is at 9 clusters\n"
     ]
    }
   ],
   "source": [
    "# Using a sorting function to find the cluster_count of the highest silhouette score\n",
    "silhouette_rank = [rank for rank in enumerate(silhouettes)]\n",
    "silhouette_rank.sort(key = lambda x: x[1], reverse=True)\n",
    "kSelection = silhouette_rank[0][0] + 2 # 2 offset because the silhouette starts w/ 2 clusters\n",
    "# I could easily decern this from the chart, but I wanted to pull the value automatically so I could more easily\n",
    "# reuse this code for other analyis\n",
    "print(f\"Highest Silhouette value is at {kSelection} clusters\")"
   ]
  },
  {
   "cell_type": "raw",
   "metadata": {},
   "source": [
    "Now that we know how many piles we need, kSelection, we can put our job postings into those piles."
   ]
  },
  {
   "cell_type": "code",
   "execution_count": 28,
   "metadata": {},
   "outputs": [],
   "source": [
    "KM = MiniBatchKMeans(n_clusters=kSelection, init_size=1024, batch_size=2048, random_state=20).fit_predict(text)"
   ]
  },
  {
   "cell_type": "code",
   "execution_count": 29,
   "metadata": {},
   "outputs": [
    {
     "data": {
      "text/plain": [
       "array([0, 3, 1, ..., 0, 0, 0])"
      ]
     },
     "execution_count": 29,
     "metadata": {},
     "output_type": "execute_result"
    }
   ],
   "source": [
    "# This gives us a list, in order, of what pile each posting belongs to:\n",
    "KM"
   ]
  },
  {
   "cell_type": "code",
   "execution_count": 30,
   "metadata": {},
   "outputs": [],
   "source": [
    "import numpy as np"
   ]
  },
  {
   "cell_type": "code",
   "execution_count": 31,
   "metadata": {},
   "outputs": [],
   "source": [
    "# I'm adding the cluster number to our dataset so that we can see it inline with our job posting\n",
    "df['cluster_no'] = KM"
   ]
  },
  {
   "cell_type": "markdown",
   "metadata": {},
   "source": [
    "### Classifying our Clusters (Manually)"
   ]
  },
  {
   "cell_type": "raw",
   "metadata": {},
   "source": [
    "A typical workflow uses clustering to group like things, then you classify (or label) them. You can then train a classifier to automatically label new items. We won't be training a classifier in this exercise (we could), but we'll still manually classify our clusters to make them a little more conversational."
   ]
  },
  {
   "cell_type": "raw",
   "metadata": {},
   "source": [
    "To help us classify our clusters we'll look at the keywords of each cluster, and we'll look at the predominate titles in the clusters to help understand what type of information is being clustered"
   ]
  },
  {
   "cell_type": "code",
   "execution_count": 32,
   "metadata": {},
   "outputs": [],
   "source": [
    "def get_top_keywords(data, clusters, labels, n_terms):\n",
    "    \"\"\"Shows us the words that helped sort the postings into their respective clusters\"\"\"\n",
    "    df = pd.DataFrame(data.todense()).groupby(clusters).mean()\n",
    "    output = {}\n",
    "    for i,r in df.iterrows():\n",
    "        label = [labels[t] for t in np.argsort(r)[-n_terms:]]\n",
    "        output[i] = label\n",
    "    return output"
   ]
  },
  {
   "cell_type": "code",
   "execution_count": 33,
   "metadata": {},
   "outputs": [],
   "source": [
    "def title_cleaner(title):\n",
    "    \"\"\"Cleans a job title, removing rank/level, we're more interested in the title than it's level\"\"\"\n",
    "    title = str(title).lower()\n",
    "    for replacement in [\"senior\", \"sr.\", \"junior\", \"jr.\", \"lead\", \"principal\"]:\n",
    "        title = title.replace(replacement, \"\")\n",
    "    while \"  \" in title:\n",
    "        title = title.replace(\"  \", \" \")\n",
    "    return title.strip()    "
   ]
  },
  {
   "cell_type": "code",
   "execution_count": 34,
   "metadata": {},
   "outputs": [],
   "source": [
    "def get_title_freq(df, field = 'job_title'):\n",
    "    \"\"\"Creates a frequency listing for each unique item in the given field (job_title),\n",
    "    returning the counts of each\n",
    "    \"\"\"\n",
    "    title_freq = {}\n",
    "    titles = df[field].to_list()\n",
    "    for title in titles:\n",
    "        title = title_cleaner(title)\n",
    "        if title in title_freq:\n",
    "            title_freq[title] =  title_freq[title] + 1\n",
    "        else:\n",
    "            title_freq[title] = 1\n",
    "            \n",
    "    return title_freq"
   ]
  },
  {
   "cell_type": "code",
   "execution_count": 35,
   "metadata": {
    "scrolled": false
   },
   "outputs": [],
   "source": [
    "def get_cluster_title_freq(df, field='job_title'):\n",
    "    \"\"\"Creates a frequency listing for each cluster/pile, returning the\n",
    "    counts of each job description within that cluster\n",
    "    \"\"\"\n",
    "    cluster_title_freq = {}\n",
    "    for cluster_no in set(df.cluster_no):\n",
    "        cluster_title_freq[cluster_no] = {}\n",
    "        current_cluster_jobs = df[df.cluster_no == cluster_no]\n",
    "        cluster_title_freq[cluster_no] = get_title_freq(current_cluster_jobs, field)\n",
    "    return cluster_title_freq"
   ]
  },
  {
   "cell_type": "code",
   "execution_count": 36,
   "metadata": {},
   "outputs": [],
   "source": [
    "def get_most_common_titles(freq, n=5):\n",
    "    \"\"\"Returns the top N most common titles from a frequency dictionary\"\"\"\n",
    "    return {k: v for k, v in sorted(freq.items(), key=lambda item: item[1], reverse=True)[:n]}\n"
   ]
  },
  {
   "cell_type": "code",
   "execution_count": 38,
   "metadata": {},
   "outputs": [],
   "source": [
    "def get_most_common_cluster_titles(freq, n=5):\n",
    "    \"\"\"Returns the top N most common titles from each cluster\"\"\"\n",
    "    return {\n",
    "        cluster_no: get_most_common_titles(title_freq) for (cluster_no, title_freq) in freq.items()\n",
    "    }"
   ]
  },
  {
   "cell_type": "code",
   "execution_count": 39,
   "metadata": {},
   "outputs": [],
   "source": [
    "# This is a helpful way to start to understand what makes up our clusters.\n",
    "# You'll notice some are what I'd call QA, DevOps, DBAs, analysts/data science, etc.\n",
    "cluster_keywords = get_top_keywords(text, KM, tfidf.get_feature_names(), 50)"
   ]
  },
  {
   "cell_type": "code",
   "execution_count": 40,
   "metadata": {},
   "outputs": [],
   "source": [
    "# Now we'll get a list of all of the unique titles in each cluster, and how many times it showed up\n",
    "cluster_title_freq = get_cluster_title_freq(df)\n",
    "common_cluster_titles = get_most_common_cluster_titles(cluster_title_freq)"
   ]
  },
  {
   "cell_type": "raw",
   "metadata": {},
   "source": [
    "With these two things, a listing of the common words in each cluster and the most common job titles within each cluster, we can add our own label to describe the skills associated with the each cluster"
   ]
  },
  {
   "cell_type": "raw",
   "metadata": {},
   "source": [
    "In Jupyter Notebook dividing by zero is a handy way to stop the script from running all the way through when you want to do something manual\n",
    "\n",
    "I could use \"Inputs\" to capture the cluster names, but I prefer this in Jupyter"
   ]
  },
  {
   "cell_type": "code",
   "execution_count": 41,
   "metadata": {},
   "outputs": [
    {
     "name": "stdout",
     "output_type": "stream",
     "text": [
      "\n",
      "Cluster Number 0:\n",
      "  - Keywords: ['javascript', 'net', 'top', 'read', 'document', 'today u', 'qualifi', 'u', 'unit', 'qualifi receiv', 'complianc', 'today', '2016', 'characterist', 'u directli', 'open', 'go', 'design', '1999', 'receiv characterist', 'open receiv', 'unit verif', 'go bottom', '1999 2016', 'receiv cybercoderscybercod', 'cybercoderscybercod', 'cybercoderscybercod employeral', 'bottom open', '2016 cybercod', 'document 1999', 'employeral', 'employeral qualifi', 'verif document', 'complianc unit', 'characterist complianc', \"apply'\", \"apply' receiv\", \"'click\", 'receiv go', \"'click apply'\", \"directli 'click\", 'bottom', 'verif', 'directli', 'cybercod', 'softwar', 'c', 'engin', 'develop', 'receiv']\n",
      "  - Common Titles:\n",
      "   > software engineer: 354\n",
      "   > .net developer: 124\n",
      "   > devops engineer: 123\n",
      "   > software developer: 101\n",
      "   > java developer: 74\n",
      "\n",
      "Cluster Number 1:\n",
      "  - Keywords: ['net develop', '5', 'design develop', 'full', 'project', 'stack', 'system', 'html css', 'respons', 'php', 'engin', 'solut', 'html5', 'agil', 'build', 'api', 'mobil', 'receiv', 'softwar develop', 'knowledg', 'spring', 'server', 'rest', 'ui', 'angular', 'strong', 'web develop', 'jqueri', 'asp net', 'mvc', 'test', 'asp', 'html', 'technolog', 'sql', 'c', 'front', 'front end', 'css', 'end', 'code', 'framework', 'js', 'softwar', 'java', 'design', 'javascript', 'net', 'web', 'develop']\n",
      "  - Common Titles:\n",
      "   > .net developer: 170\n",
      "   > java developer: 160\n",
      "   > software engineer: 90\n",
      "   > front end developer: 87\n",
      "   > web developer: 84\n",
      "\n",
      "Cluster Number 2:\n",
      "  - Keywords: ['across', 'agil', 'leadership', 'initi', 'methodolog', 'complex', 'role', 'track', 'analysi', 'assign', 'facilit', 'document', 'perform', 'understand', 'data', 'relat', 'within', 'scope', 'identifi', 'design', 'knowledg', 'deliveri', 'effect', 'multipl', 'custom', 'strong', 'issu', 'stakehold', 'execut', 'budget', 'meet', 'coordin', 'technolog', 'manag project', 'implement', 'report', 'solut', 'chang', 'function', 'resourc', 'support', 'risk', 'system', 'respons', 'abil', 'process', 'develop', 'project manag', 'manag', 'project']\n",
      "  - Common Titles:\n",
      "   > project manager: 220\n",
      "   > business analyst: 59\n",
      "   > it project manager: 30\n",
      "   > program manager: 28\n",
      "   > project coordinator: 24\n",
      "\n",
      "Cluster Number 3:\n",
      "  - Keywords: ['ssr', 'creat', 'databas administr', 'sourc', 'test', 'analyst', 'ssi', 'architectur', 'administr', 'respons', 'hadoop', 'intellig', 'project', 'tune', 'implement', 'integr', 'dba', 'strong', 'technolog', 'relat', 'understand', 'queri', 'big', 'abil', 'knowledg', 'tool', 'big data', 'process', 'solut', 'system', 'data warehous', 'analysi', 'support', 'warehous', 'bi', 'perform', 'data model', 'analyt', 'manag', 'design', 'server', 'oracl', 'sql server', 'model', 'report', 'etl', 'develop', 'sql', 'databas', 'data']\n",
      "  - Common Titles:\n",
      "   > data analyst: 53\n",
      "   > database administrator: 45\n",
      "   > data scientist: 40\n",
      "   > data architect: 32\n",
      "   > data engineer: 27\n",
      "\n",
      "Cluster Number 4:\n",
      "  - Keywords: ['mason', 'understand', 'power', 'partner', 'mason frank', 'com salesforc', 'integr', 'cloud', 'design', 'role', 'america', 'north', 'peopl', 'forc com', 'believ', 'test', 'system', 'masonfrank com', 'process', 'north america', 'global', 'support', 'sale', 'deloitt llp', 'visualforc', 'llp', 'masonfrank', 'implement', 'technolog', 'power solut', 'cultur', 'talent', 'deloitt com', 'custom', 'forc', 'learn', 'project', 'deliv', 'career', 'manag', 'salesforc develop', 'solut', 'apex', 'sfdc', 'develop', 'com', 'ciber', 'salesforc com', 'deloitt', 'salesforc']\n",
      "  - Common Titles:\n",
      "   > salesforce developer: 38\n",
      "   > salesforce administrator: 17\n",
      "   > strategy consulting: 15\n",
      "   > salesforce architect: 12\n",
      "   > cyber security: 9\n",
      "\n",
      "Cluster Number 5:\n",
      "  - Keywords: ['peopl', 'uc', 'region', 'role', 'travel', 'present', 'growth', 'knowledg', 'prospect', 'nexu', 'data center', 'ip', 'wan', 'relationship', 'respons', 'strong', 'rout', 'ccnp', 'data', 'system', 'network secur', 'implement', 'firewal', 'ccie', 'network engin', 'enterpris', 'center', 'cisco unifi', 'abil', 'develop', 'design', 'pre', 'switch', 'support', 'pre sale', 'receiv', 'sell', 'unifi', 'technolog', 'voic', 'secur', 'citrix', 'manag', 'sale engin', 'solut', 'engin', 'custom', 'network', 'cisco', 'sale']\n",
      "  - Common Titles:\n",
      "   > sales engineer: 35\n",
      "   > network engineer: 33\n",
      "   > network security engineer: 16\n",
      "   > corporate account manager: 12\n",
      "   > services relationship manager (west/central): 11\n",
      "\n",
      "Cluster Number 6:\n",
      "  - Keywords: ['custom', 'place', 'get', '100', 'staf', 'target', 'worldwid', 'per', '80', 'placement', '80 000', 'stem', 'manag firm', 'talent manag', 'sincer', 'offic worldwid', 'seek understand', 'staf talent', 'career fast', 'fast track', 'teksystem join', 'join teksystem', 'get career', 'present target', \"consultants'\", '100 offic', 'worldwid partner', '000 place', 'partner 6', \"understand consultants'\", \"placement teksystems'\", 'target direct', \"teksystems' leadership\", 'firm get', 'place 80', 'us present', 'track 100', 'leadership stem', 'stem sincer', \"consultants' us\", 'sincer custom', '000 per', 'per teksystem', '6 000', 'teksystem staf', \"teksystems'\", 'direct placement', 'teksystem seek', '000', 'teksystem']\n",
      "  - Common Titles:\n",
      "   > network engineer: 27\n",
      "   > .net developer: 22\n",
      "   > java developer: 19\n",
      "   > service desk analyst: 16\n",
      "   > desktop support: 13\n",
      "\n",
      "Cluster Number 7:\n",
      "  - Keywords: ['maintain', 'script', 'code', 'us', '1', 'architectur', '2', 'java', 'descript', 'comput', 'configur', 'assist', 'oracl', 'network', 'user', '5', 'role', 'analyst', 'document', 'report', 'relat', 'sap', 'analysi', 'understand', 'integr', 'autom', 'tool', 'strong', 'implement', 'function', 'data', 'perform', 'custom', 'respons', 'com', 'project', 'abil', 'technolog', 'knowledg', 'solut', 'process', 'engin', 'softwar', 'support', 'design', 'secur', 'manag', 'system', 'develop', 'test']\n",
      "  - Common Titles:\n",
      "   > software engineer: 117\n",
      "   > business analyst: 114\n",
      "   > java developer: 83\n",
      "   > devops engineer: 58\n",
      "   > technical writer: 40\n",
      "\n",
      "Cluster Number 8:\n",
      "  - Keywords: ['mainten', 'project', 'lan', 'resolv', 'data', 'solut', 'enterpris', 'virtual', 'firewal', 'window server', 'implement', 'switch', 'relat', 'exchang', 'hardwar softwar', 'storag', 'dynam', 'comput', 'system administr', 'engin', 'monitor', 'respons', 'abil', 'vmware', 'perform', 'cisco', 'maintain', 'user', 'infrastructur', 'technolog', 'softwar', 'issu', 'knowledg', 'desk', 'custom', 'directori', 'instal', 'secur', 'desktop', 'configur', 'hardwar', 'troubleshoot', 'manag', 'microsoft', 'administr', 'window', 'server', 'system', 'support', 'network']\n",
      "  - Common Titles:\n",
      "   > network engineer: 104\n",
      "   > systems engineer: 62\n",
      "   > systems administrator: 62\n",
      "   > network administrator: 37\n",
      "   > system administrator: 26\n"
     ]
    }
   ],
   "source": [
    "for cluster_no, keywords_list in cluster_keywords.items():\n",
    "    print(f\"\\nCluster Number {cluster_no}:\")\n",
    "    print(f\"  - Keywords: {keywords_list}\")\n",
    "    print(f\"  - Common Titles:\")\n",
    "    print(\"\\n\".join([f\"   > {title}: {count}\" for (title, count) in common_cluster_titles[cluster_no].items()]))"
   ]
  },
  {
   "cell_type": "raw",
   "metadata": {},
   "source": [
    "Now, we need to label the piles (classify); this will help us talk about them in a more intuitive way -- this is manual, but knowing what's in them helps\n",
    "\n",
    "We'll create a dictionary where the key is the cluster number and the value is our chosen cluster label"
   ]
  },
  {
   "cell_type": "code",
   "execution_count": 42,
   "metadata": {},
   "outputs": [],
   "source": [
    "cluster_labels = {}\n",
    "cluster_labels[0] = \"Backend Development\"\n",
    "cluster_labels[1] = \"UI Development\"\n",
    "cluster_labels[2] = \"Project Management\"\n",
    "cluster_labels[3] = \"Analysis\"\n",
    "cluster_labels[4] = \"Salesforce / Consulting\"\n",
    "cluster_labels[5] = \"Sales\"\n",
    "cluster_labels[6] = \"Help Desk\"\n",
    "cluster_labels[7] = \"DevOps\"\n",
    "cluster_labels[8] = \"Network/Systems\""
   ]
  },
  {
   "cell_type": "code",
   "execution_count": null,
   "metadata": {},
   "outputs": [],
   "source": [
    "1/0 "
   ]
  },
  {
   "cell_type": "code",
   "execution_count": 43,
   "metadata": {},
   "outputs": [],
   "source": [
    "# Now I'll add our selected cluster labels to the dataset so we can see them in-line\n",
    "df['cluster_label'] = df['cluster_no'].map(cluster_labels)"
   ]
  },
  {
   "cell_type": "code",
   "execution_count": 44,
   "metadata": {
    "scrolled": true
   },
   "outputs": [
    {
     "name": "stdout",
     "output_type": "stream",
     "text": [
      "A Sample of our Job Postings sorted by cluster number:\n"
     ]
    },
    {
     "data": {
      "text/html": [
       "<div>\n",
       "<style scoped>\n",
       "    .dataframe tbody tr th:only-of-type {\n",
       "        vertical-align: middle;\n",
       "    }\n",
       "\n",
       "    .dataframe tbody tr th {\n",
       "        vertical-align: top;\n",
       "    }\n",
       "\n",
       "    .dataframe thead th {\n",
       "        text-align: right;\n",
       "    }\n",
       "</style>\n",
       "<table border=\"1\" class=\"dataframe\">\n",
       "  <thead>\n",
       "    <tr style=\"text-align: right;\">\n",
       "      <th></th>\n",
       "      <th>cluster_no</th>\n",
       "      <th>cluster_label</th>\n",
       "      <th>job_title</th>\n",
       "      <th>job_description</th>\n",
       "    </tr>\n",
       "  </thead>\n",
       "  <tbody>\n",
       "    <tr>\n",
       "      <th>12863</th>\n",
       "      <td>0</td>\n",
       "      <td>Backend Development</td>\n",
       "      <td>Mobile Developer</td>\n",
       "      <td>Minimum Required Skills:C++/C#/.NET, XAML / WP...</td>\n",
       "    </tr>\n",
       "    <tr>\n",
       "      <th>13760</th>\n",
       "      <td>0</td>\n",
       "      <td>Backend Development</td>\n",
       "      <td>Cloud Operations Engineer</td>\n",
       "      <td>Minimum Required Skills:Linux, application ser...</td>\n",
       "    </tr>\n",
       "    <tr>\n",
       "      <th>13188</th>\n",
       "      <td>2</td>\n",
       "      <td>Project Management</td>\n",
       "      <td>Project Engineer</td>\n",
       "      <td>Project Engineer Job Description: General Summ...</td>\n",
       "    </tr>\n",
       "    <tr>\n",
       "      <th>9656</th>\n",
       "      <td>4</td>\n",
       "      <td>Salesforce / Consulting</td>\n",
       "      <td>Salesforce Developer</td>\n",
       "      <td>Salesforce Developer ; Washington D.C. ; $35.0...</td>\n",
       "    </tr>\n",
       "    <tr>\n",
       "      <th>20713</th>\n",
       "      <td>7</td>\n",
       "      <td>DevOps</td>\n",
       "      <td>Junior Systems Engineer</td>\n",
       "      <td>Description:Leidos has a career opening for a ...</td>\n",
       "    </tr>\n",
       "  </tbody>\n",
       "</table>\n",
       "</div>"
      ],
      "text/plain": [
       "       cluster_no            cluster_label                  job_title  \\\n",
       "12863           0      Backend Development           Mobile Developer   \n",
       "13760           0      Backend Development  Cloud Operations Engineer   \n",
       "13188           2       Project Management           Project Engineer   \n",
       "9656            4  Salesforce / Consulting       Salesforce Developer   \n",
       "20713           7                   DevOps    Junior Systems Engineer   \n",
       "\n",
       "                                         job_description  \n",
       "12863  Minimum Required Skills:C++/C#/.NET, XAML / WP...  \n",
       "13760  Minimum Required Skills:Linux, application ser...  \n",
       "13188  Project Engineer Job Description: General Summ...  \n",
       "9656   Salesforce Developer ; Washington D.C. ; $35.0...  \n",
       "20713  Description:Leidos has a career opening for a ...  "
      ]
     },
     "execution_count": 44,
     "metadata": {},
     "output_type": "execute_result"
    }
   ],
   "source": [
    "print(\"A Sample of our Job Postings sorted by cluster number:\")\n",
    "df[['cluster_no', 'cluster_label', 'job_title', 'job_description']].sample(5).sort_values(by ='cluster_no')"
   ]
  },
  {
   "cell_type": "raw",
   "metadata": {},
   "source": [
    "If these don't look right we can update the labels or change the cluster number (maybe our silhouette wasn't quite right and we need to add or remove a cluster)"
   ]
  },
  {
   "cell_type": "markdown",
   "metadata": {},
   "source": [
    "### Let's visualize these results"
   ]
  },
  {
   "cell_type": "code",
   "execution_count": 45,
   "metadata": {},
   "outputs": [
    {
     "name": "stdout",
     "output_type": "stream",
     "text": [
      "Unique titles: 10959\n"
     ]
    }
   ],
   "source": [
    "allTitleFreq = get_title_freq(df)\n",
    "print(f\"Unique titles: {len(set(allTitleFreq))}\")"
   ]
  },
  {
   "cell_type": "raw",
   "metadata": {},
   "source": [
    "With ~11k unique tites, we may not see trends that give us insights. There are a lot of ways we could consolidate those into buckets (clustering for instance), but I'm going to take a quick (and dirty) stab at it by combining titles that contain the same words. This list, `contains`, is the list of words I'm interested in:"
   ]
  },
  {
   "cell_type": "code",
   "execution_count": 46,
   "metadata": {},
   "outputs": [],
   "source": [
    "contains = [\n",
    "    \"front\",\n",
    "    \"back\",\n",
    "    \"full\",\n",
    "    \"business analyst\",\n",
    "    \"data analyst\",\n",
    "    \"data scientist\",\n",
    "    \"data engineer\",\n",
    "    \"software engineer\",\n",
    "    \"software developer\",\n",
    "    \"database\",\n",
    "    \"sql\",\n",
    "    \"etl\",\n",
    "    \"devops\",\n",
    "    \"network\",\n",
    "    \"system\",\n",
    "    \"machine learning\",\n",
    "    \"project\",\n",
    "    \"agile\",\n",
    "]"
   ]
  },
  {
   "cell_type": "code",
   "execution_count": 47,
   "metadata": {},
   "outputs": [],
   "source": [
    "# Originally I was just going to filter, but there were so many unique titles that\n",
    "# contain my words that it wasn't as aggregated as I'd hoped\n",
    "\n",
    "def filterClusterTitles(freq, contains):\n",
    "    \"\"\"Filters titles that don't contain one of the words in the contains list\"\"\"\n",
    "    return {\n",
    "        cluster_no: {\n",
    "            title:freq\n",
    "            for (title, freq) in title_freq.items()\n",
    "            if any([c in title for c in contains])\n",
    "        } for (cluster_no, title_freq) in freq.items()\n",
    "    }"
   ]
  },
  {
   "cell_type": "code",
   "execution_count": 48,
   "metadata": {},
   "outputs": [],
   "source": [
    "# I decided to replace any title containing one of my words with that word\n",
    "# So \"front end developer\" just becomes \"front\" -- this is similar to stemming\n",
    "# The way I implemented this, if several of my words were in the title it would only\n",
    "# be counted for the first. For example \"agile frontend software developer\" would become \"front\".\n",
    "\n",
    "def filterReplaceClusterTitles(freq, contains):\n",
    "    \"\"\"Filters titles that don't contain one of the words in the contains list\n",
    "    and replaces the title with the first substring found\n",
    "    \"\"\"\n",
    "    replacerFunc = lambda x, contains: ([c for c in contains if c in x]+[x])[0]\n",
    "    output = {}\n",
    "    for (cluster_no, title_freq) in freq.items():\n",
    "        output[cluster_no] = {}\n",
    "        for title, freq in title_freq.items():\n",
    "            cleanTitle = replacerFunc(title, contains)\n",
    "            if cleanTitle in contains:\n",
    "                if cleanTitle not in output[cluster_no]:\n",
    "                    output[cluster_no][cleanTitle] = 0\n",
    "                output[cluster_no][cleanTitle] += freq\n",
    "            \n",
    "        \n",
    "    return output"
   ]
  },
  {
   "cell_type": "code",
   "execution_count": 49,
   "metadata": {},
   "outputs": [],
   "source": [
    "# Apply the filter\n",
    "filter_cluster_title_freq = filterReplaceClusterTitles(\n",
    "    cluster_title_freq,\n",
    "    contains\n",
    ")"
   ]
  },
  {
   "cell_type": "code",
   "execution_count": 50,
   "metadata": {},
   "outputs": [
    {
     "name": "stdout",
     "output_type": "stream",
     "text": [
      "\n",
      "Backend Development (cluster 0):\n",
      " - software engineer: 622\n",
      " - system: 181\n",
      " - devops: 169\n",
      "\n",
      "UI Development (cluster 1):\n",
      " - front: 236\n",
      " - software engineer: 183\n",
      " - full: 168\n",
      "\n",
      "Project Management (cluster 2):\n",
      " - project: 676\n",
      " - business analyst: 130\n",
      " - system: 59\n",
      "\n",
      "Analysis (cluster 3):\n",
      " - database: 197\n",
      " - sql: 170\n",
      " - data analyst: 126\n",
      "\n",
      "Salesforce / Consulting (cluster 4):\n",
      " - system: 14\n",
      " - business analyst: 9\n",
      " - project: 8\n",
      "\n",
      "Sales (cluster 5):\n",
      " - network: 116\n",
      " - system: 10\n",
      " - project: 4\n",
      "\n",
      "Help Desk (cluster 6):\n",
      " - system: 61\n",
      " - network: 59\n",
      " - project: 40\n",
      "\n",
      "DevOps (cluster 7):\n",
      " - system: 469\n",
      " - business analyst: 274\n",
      " - software engineer: 233\n",
      "\n",
      "Network/Systems (cluster 8):\n",
      " - system: 378\n",
      " - network: 348\n",
      " - back: 9\n"
     ]
    }
   ],
   "source": [
    "# Let's take a look at the top 3 results for each cluster\n",
    "\n",
    "# Notice how writing `get_most_common_titles` as a function allows us to reuse it here\n",
    "# DRY (Don't Repeat Yourself) is a fundamental coding principal\n",
    "\n",
    "for (cluster_no, title_freq) in filter_cluster_title_freq.items():\n",
    "    print(f\"\\n{cluster_labels[cluster_no]} (cluster {cluster_no}):\")\n",
    "    print(\"\\n\".join([f\" - {title}: {count}\" for (title, count) in get_most_common_titles(title_freq, n=3).items()]))"
   ]
  },
  {
   "cell_type": "markdown",
   "metadata": {},
   "source": [
    "### Let's build the graphic"
   ]
  },
  {
   "cell_type": "code",
   "execution_count": 51,
   "metadata": {},
   "outputs": [],
   "source": [
    "import seaborn as sn # One of my favorite graphing packages"
   ]
  },
  {
   "cell_type": "code",
   "execution_count": 52,
   "metadata": {},
   "outputs": [
    {
     "name": "stdout",
     "output_type": "stream",
     "text": [
      "{0, 1, 2, 3, 4, 5, 6, 7, 8}\n"
     ]
    }
   ],
   "source": [
    "# We'll start by getting a list of clusters\n",
    "clusterNos = set(filter_cluster_title_freq.keys())\n",
    "print(clusterNos)"
   ]
  },
  {
   "cell_type": "code",
   "execution_count": 53,
   "metadata": {},
   "outputs": [
    {
     "name": "stdout",
     "output_type": "stream",
     "text": [
      "[[112  98 166  36   7  34  39 622 160  32  29   1 169  48 181  14  76   1]\n",
      " [236  38 168   1   0   1   1 183 124   3  15   2   4   2  11   0   2   3]\n",
      " [  3   0   3 130   2   0   0   4   4   1   2   2   2  16  59   1 676  12]\n",
      " [  2   2  10  35 126  62  41  33   7 197 170  64   4   0  23   3   5   3]\n",
      " [  1   0   0   9   0   0   1   6   3   3   0   1   1   1  14   0   8   2]\n",
      " [  0   2   0   2   0   0   1   0   0   0   0   0   0 116  10   1   4   0]\n",
      " [  5   0   5  17  12   0   2  15   9   4  19   4   4  59  61   0  40   2]\n",
      " [  8  28  52 274  23   7   4 233  60  25  62  29 134 124 469   5  87  22]\n",
      " [  0   9   2   7   0   0   3   1   0   3   6   0   6 348 378   0   8   0]]\n"
     ]
    }
   ],
   "source": [
    "#Next we'll create a matrix that shows the counts of each job posting of a given title within each cluster\n",
    "countMatrix = np.array([[filter_cluster_title_freq[cluster_no].get(title, 0) for title in contains] for cluster_no in clusterNos])\n",
    "\n",
    "print(countMatrix)"
   ]
  },
  {
   "cell_type": "raw",
   "metadata": {},
   "source": [
    "We'll normalize these numbers two ways:\n",
    "  1. We'll make each column equal to 100%, that'll help us see what skills make up each job\n",
    "  2. We'll make each row equal to 100%, that'll help us see how how skills are distributed across jobs"
   ]
  },
  {
   "cell_type": "code",
   "execution_count": 56,
   "metadata": {},
   "outputs": [],
   "source": [
    "colTotal = 100 * countMatrix.astype('float') / countMatrix.astype('float').T.sum(axis=1)[:, np.newaxis].T\n",
    "rowTotal = 100 * countMatrix.astype('float') / countMatrix.sum(axis=1)[:, np.newaxis]"
   ]
  },
  {
   "cell_type": "code",
   "execution_count": 57,
   "metadata": {
    "scrolled": false
   },
   "outputs": [],
   "source": [
    "def plotMatrix(data, rows, columns, xLabel, yLabel, title, saveAs=\"\"):\n",
    "    \"\"\"Plots the data matrix and colors based on weight\"\"\"\n",
    "    df_cm = pd.DataFrame(data, index = rows, columns = contains)\n",
    "    plt.figure(figsize=(20,8))\n",
    "    cmplot = sn.heatmap(\n",
    "        df_cm,\n",
    "        annot=True,\n",
    "        cmap=\"Greens\",\n",
    "        square=True\n",
    "    )\n",
    "    xtic = cmplot.set_xticklabels(cmplot.get_xticklabels(), rotation=45, horizontalalignment='right')\n",
    "    #ytic = cmplot.set_yticklabels(cmplot.get_yticklabels(), rotation=0, horizontalalignment='right')\n",
    "    plt.xlabel(xLabel, fontsize=18)\n",
    "    plt.ylabel(yLabel, fontsize=18)\n",
    "    plt_title = plt.title(title, fontsize=25)\n",
    "    \n",
    "    if saveAs:\n",
    "        fig = cmplot.get_figure()\n",
    "        fig.savefig(saveAs)"
   ]
  },
  {
   "cell_type": "code",
   "execution_count": 58,
   "metadata": {},
   "outputs": [],
   "source": [
    "from datetime import datetime"
   ]
  },
  {
   "cell_type": "code",
   "execution_count": 59,
   "metadata": {},
   "outputs": [],
   "source": [
    "timestamp = datetime.now().strftime(\"%y%m%d%H%M%S\")"
   ]
  },
  {
   "cell_type": "code",
   "execution_count": 62,
   "metadata": {
    "scrolled": false
   },
   "outputs": [
    {
     "data": {
      "image/png": "[encoded data removed]",
      "text/plain": [
       "<Figure size 1440x576 with 2 Axes>"
      ]
     },
     "metadata": {
      "needs_background": "light"
     },
     "output_type": "display_data"
    }
   ],
   "source": [
    "plotMatrix(\n",
    "    data = colTotal,\n",
    "    rows = [cluster_labels[i] for i in range(len(colTotal))],\n",
    "    columns = contains,\n",
    "    xLabel=\"Job Titles\",\n",
    "    yLabel=\"Skill Groupings\",\n",
    "    title=\"What Do Job Titles Mean?\",\n",
    "    saveAs=f\"{timestamp}_TitleMeaning.png\"\n",
    ")"
   ]
  },
  {
   "cell_type": "raw",
   "metadata": {},
   "source": [
    "My current title is \"Data Engineer.\" In some organizations, this is a system integrator role strictly creating data pipelines; in others, it's a more analytical role. I self-identify as a full-stack developer with a strong quantitative/analytical background and experience with ML with a (relatively) weak devops background, which means I could probably identify as a data scientist or engineer, but I have an uncommon front-end background layered in.\n",
    "\n",
    "I've often wondered what the difference between a software engineer and a software developer is; turns out -- not much. Engineers perhaps focus a little more on devops than UI.\n",
    "\n",
    "Interestingly, frontend and backend both seem fullstack, but with a bit of a bias, and fullstack and backend seem stronger in devops.\n",
    "\n",
    "Across the board, it looks like devops and backend dev are the most consistent skills"
   ]
  },
  {
   "cell_type": "code",
   "execution_count": 63,
   "metadata": {},
   "outputs": [
    {
     "data": {
      "image/png": "[encoded data removed]",
      "text/plain": [
       "<Figure size 1440x576 with 2 Axes>"
      ]
     },
     "metadata": {
      "needs_background": "light"
     },
     "output_type": "display_data"
    }
   ],
   "source": [
    " plotMatrix(\n",
    "    data = rowTotal,\n",
    "    rows = [cluster_labels[i] for i in range(len(rowTotal))],\n",
    "    columns = contains,\n",
    "    xLabel=\"Job Titles\",\n",
    "    yLabel=\"Skill Groupings\",\n",
    "    title=\"How are Skills Concentrated?\",\n",
    "    saveAs=f\"{timestamp}_SkillsUsed.png\"\n",
    ")"
   ]
  },
  {
   "cell_type": "raw",
   "metadata": {},
   "source": [
    "A lot of this is pretty intuitive:\n",
    " - UI Development is mostly represented in frontend, full-stack and software (engineering/developer) roles.\n",
    " - Analytics are mostly represented in the analyst & SQL, DBA roles"
   ]
  },
  {
   "cell_type": "markdown",
   "metadata": {},
   "source": [
    "# Takeaways:"
   ]
  },
  {
   "cell_type": "raw",
   "metadata": {},
   "source": [
    "As an industry we need to work to normalize titles: engineers vs developers, analysts vs data scientist, full-stack vs software ambiguity causes issues across talent acquisition & talent management. It results in wasted time and missed opportunity for both employers & job seekers and makes performance management more difficult.\n",
    "\n",
    "For now, hopefully someone else finds this interesting, and can use one of the images above to help identify what type of techie they are, they want to be, or what type they're looking to hire."
   ]
  },
  {
   "cell_type": "markdown",
   "metadata": {},
   "source": [
    "## Disclaimers:"
   ]
  },
  {
   "cell_type": "raw",
   "metadata": {},
   "source": [
    "- This was thrown together in an afternoon, I'm sure there are several places where I could write more performant code -- feel free to post a PR to the github: https://github.com/EvanSchalton/job_terms\n",
    "- I didn't spend an inordiante amount of time validating the clusters, there's likely room for improvment there."
   ]
  },
  {
   "cell_type": "markdown",
   "metadata": {},
   "source": [
    "## Potential Next Steps:"
   ]
  },
  {
   "cell_type": "raw",
   "metadata": {},
   "source": [
    "- The pre-processing could be GREATLY improved (ideally I'd have found non-tech job postings and used them to create a set of job posting specific stopwords)\n",
    "- It'd be cool to train a classifier so that recruiters could upload a job description and recieve a recommended title for that job."
   ]
  }
 ],
 "metadata": {
  "kernelspec": {
   "display_name": "Python 3",
   "language": "python",
   "name": "python3"
  },
  "language_info": {
   "codemirror_mode": {
    "name": "ipython",
    "version": 3
   },
   "file_extension": ".py",
   "mimetype": "text/x-python",
   "name": "python",
   "nbconvert_exporter": "python",
   "pygments_lexer": "ipython3",
   "version": "3.7.7"
  }
 },
 "nbformat": 4,
 "nbformat_minor": 2
}
